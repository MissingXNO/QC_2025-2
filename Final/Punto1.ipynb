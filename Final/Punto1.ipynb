{
  "nbformat": 4,
  "nbformat_minor": 0,
  "metadata": {
    "colab": {
      "provenance": [],
      "gpuType": "T4"
    },
    "kernelspec": {
      "name": "python3",
      "display_name": "Python 3"
    },
    "language_info": {
      "name": "python"
    },
    "accelerator": "GPU"
  },
  "cells": [
    {
      "cell_type": "markdown",
      "source": [
        "# LIBRERIAS"
      ],
      "metadata": {
        "id": "KL8byxw6NvVI"
      }
    },
    {
      "cell_type": "code",
      "source": [
        "!pip install pennylane\n",
        "\n",
        "import pennylane as qml\n",
        "from pennylane import numpy as np\n",
        "from pennylane.optimize import AdamOptimizer\n",
        "\n",
        "from sklearn.model_selection import train_test_split\n",
        "import pandas as pd\n",
        "\n",
        "from sklearn.metrics import accuracy_score, f1_score, precision_score, recall_score\n",
        "import math"
      ],
      "metadata": {
        "colab": {
          "base_uri": "https://localhost:8080/"
        },
        "id": "HSiRpc4tNwpN",
        "outputId": "0a827148-9bcd-490a-cb5c-2b8de114a93a"
      },
      "execution_count": 5,
      "outputs": [
        {
          "output_type": "stream",
          "name": "stdout",
          "text": [
            "Requirement already satisfied: pennylane in /usr/local/lib/python3.11/dist-packages (0.41.1)\n",
            "Requirement already satisfied: numpy in /usr/local/lib/python3.11/dist-packages (from pennylane) (2.0.2)\n",
            "Requirement already satisfied: scipy in /usr/local/lib/python3.11/dist-packages (from pennylane) (1.15.3)\n",
            "Requirement already satisfied: networkx in /usr/local/lib/python3.11/dist-packages (from pennylane) (3.5)\n",
            "Requirement already satisfied: rustworkx>=0.14.0 in /usr/local/lib/python3.11/dist-packages (from pennylane) (0.16.0)\n",
            "Requirement already satisfied: autograd in /usr/local/lib/python3.11/dist-packages (from pennylane) (1.8.0)\n",
            "Requirement already satisfied: tomlkit in /usr/local/lib/python3.11/dist-packages (from pennylane) (0.13.3)\n",
            "Requirement already satisfied: appdirs in /usr/local/lib/python3.11/dist-packages (from pennylane) (1.4.4)\n",
            "Requirement already satisfied: autoray>=0.6.11 in /usr/local/lib/python3.11/dist-packages (from pennylane) (0.7.2)\n",
            "Requirement already satisfied: cachetools in /usr/local/lib/python3.11/dist-packages (from pennylane) (5.5.2)\n",
            "Requirement already satisfied: pennylane-lightning>=0.41 in /usr/local/lib/python3.11/dist-packages (from pennylane) (0.41.1)\n",
            "Requirement already satisfied: requests in /usr/local/lib/python3.11/dist-packages (from pennylane) (2.32.3)\n",
            "Requirement already satisfied: typing-extensions in /usr/local/lib/python3.11/dist-packages (from pennylane) (4.14.1)\n",
            "Requirement already satisfied: packaging in /usr/local/lib/python3.11/dist-packages (from pennylane) (24.2)\n",
            "Requirement already satisfied: diastatic-malt in /usr/local/lib/python3.11/dist-packages (from pennylane) (2.15.2)\n",
            "Requirement already satisfied: scipy-openblas32>=0.3.26 in /usr/local/lib/python3.11/dist-packages (from pennylane-lightning>=0.41->pennylane) (0.3.30.0.1)\n",
            "Requirement already satisfied: astunparse in /usr/local/lib/python3.11/dist-packages (from diastatic-malt->pennylane) (1.6.3)\n",
            "Requirement already satisfied: gast in /usr/local/lib/python3.11/dist-packages (from diastatic-malt->pennylane) (0.6.0)\n",
            "Requirement already satisfied: termcolor in /usr/local/lib/python3.11/dist-packages (from diastatic-malt->pennylane) (3.1.0)\n",
            "Requirement already satisfied: charset-normalizer<4,>=2 in /usr/local/lib/python3.11/dist-packages (from requests->pennylane) (3.4.2)\n",
            "Requirement already satisfied: idna<4,>=2.5 in /usr/local/lib/python3.11/dist-packages (from requests->pennylane) (3.10)\n",
            "Requirement already satisfied: urllib3<3,>=1.21.1 in /usr/local/lib/python3.11/dist-packages (from requests->pennylane) (2.4.0)\n",
            "Requirement already satisfied: certifi>=2017.4.17 in /usr/local/lib/python3.11/dist-packages (from requests->pennylane) (2025.7.9)\n",
            "Requirement already satisfied: wheel<1.0,>=0.23.0 in /usr/local/lib/python3.11/dist-packages (from astunparse->diastatic-malt->pennylane) (0.45.1)\n",
            "Requirement already satisfied: six<2.0,>=1.6.1 in /usr/local/lib/python3.11/dist-packages (from astunparse->diastatic-malt->pennylane) (1.17.0)\n"
          ]
        }
      ]
    },
    {
      "cell_type": "markdown",
      "source": [
        "# I. PREPROCESAMIENTO DE LOS DATOS DE ENTRADA"
      ],
      "metadata": {
        "id": "0Q3LP5SANlbA"
      }
    },
    {
      "cell_type": "code",
      "source": [
        "import zipfile\n",
        "import os\n",
        "\n",
        "with zipfile.ZipFile('titanic.zip', 'r') as zip_ref:\n",
        "    zip_ref.extractall('titanic_data')\n",
        "\n",
        "print(\"Archivos extraídos:\")\n",
        "print(os.listdir('titanic_data'))\n",
        "\n",
        "df_train = pd.read_csv('/content/titanic_data/train.csv')\n",
        "df_train['Pclass'] = df_train['Pclass'].astype(str)\n",
        "df_train = pd.concat([df_train, pd.get_dummies(df_train[['Pclass', 'Sex', 'Embarked']])], axis=1)\n",
        "df_train['Age'] = df_train['Age'].fillna(df_train['Age'].median())\n",
        "df_train['is_child'] = df_train['Age'].map(lambda x: 1 if x < 12 else 0)\n",
        "cols_model = ['is_child', 'Pclass_1', 'Pclass_2', 'Sex_female']"
      ],
      "metadata": {
        "colab": {
          "base_uri": "https://localhost:8080/"
        },
        "id": "D69I_747NuGr",
        "outputId": "e0a220ca-7272-4a96-ddd7-b187da7c7cda"
      },
      "execution_count": 6,
      "outputs": [
        {
          "output_type": "stream",
          "name": "stdout",
          "text": [
            "Archivos extraídos:\n",
            "['train.csv', 'gender_submission.csv', 'test.csv']\n"
          ]
        }
      ]
    },
    {
      "cell_type": "markdown",
      "source": [
        "# II. DIVISIÓN DE LOS DATOS DE ENTRENAMIENTO Y DATOS DE PRUEBA"
      ],
      "metadata": {
        "id": "6o6AHgCKNlz6"
      }
    },
    {
      "cell_type": "code",
      "source": [
        "X_train, X_test, y_train, y_test = train_test_split(\n",
        "    df_train[cols_model],\n",
        "    df_train['Survived'],\n",
        "    test_size=0.10,\n",
        "    random_state=42,\n",
        "    stratify=df_train['Survived']\n",
        ")\n",
        "\n",
        "X_train = np.array(X_train.values, requires_grad=False)\n",
        "Y_train = np.array(y_train.values * 2 - np.ones(len(y_train)), requires_grad=False)"
      ],
      "metadata": {
        "id": "xusihDxgN3mk"
      },
      "execution_count": 7,
      "outputs": []
    },
    {
      "cell_type": "markdown",
      "source": [
        "# III. ETAPA DEL FEATURE MAP"
      ],
      "metadata": {
        "id": "0s1NwRgANl__"
      }
    },
    {
      "cell_type": "code",
      "source": [
        "def statepreparation(x):\n",
        "    qml.BasisEmbedding(x, wires=range(0, 4))"
      ],
      "metadata": {
        "id": "RQDZ6THSN6RG"
      },
      "execution_count": 8,
      "outputs": []
    },
    {
      "cell_type": "markdown",
      "source": [
        "# IV. ETAPA DEL ANSATZ"
      ],
      "metadata": {
        "id": "SEKZMqXyNmL2"
      }
    },
    {
      "cell_type": "code",
      "source": [
        "def layer(W):\n",
        "    for i in range(4):\n",
        "        qml.Rot(*W[i], wires=i)\n",
        "    qml.CNOT(wires=[0, 1])\n",
        "    qml.CNOT(wires=[1, 2])\n",
        "    qml.CNOT(wires=[2, 3])\n",
        "    qml.CNOT(wires=[3, 0])\n",
        "\n",
        "num_qubits = 4\n",
        "num_layers = 2\n",
        "dev = qml.device(\"default.qubit\", wires=num_qubits)\n",
        "\n",
        "@qml.qnode(dev, interface=\"autograd\")\n",
        "def circuit(weights, x):\n",
        "    statepreparation(x)\n",
        "    for W in weights:\n",
        "        layer(W)\n",
        "    return qml.expval(qml.PauliZ(0))\n",
        "\n",
        "def variational_classifier(weights, bias, x):\n",
        "    return circuit(weights, x) + bias"
      ],
      "metadata": {
        "id": "zPofMd-kOCQT"
      },
      "execution_count": 10,
      "outputs": []
    },
    {
      "cell_type": "markdown",
      "source": [
        "# V. ETAPA DE FUNCIÓN DE PERDIDA"
      ],
      "metadata": {
        "id": "PiJ6IeieNmVz"
      }
    },
    {
      "cell_type": "code",
      "source": [
        "def square_loss(labels, predictions):\n",
        "    loss = 0\n",
        "    for l, p in zip(labels, predictions):\n",
        "        loss += (l - p) ** 2\n",
        "    return loss / len(labels)"
      ],
      "metadata": {
        "id": "yxtJuW4KOF5N"
      },
      "execution_count": 11,
      "outputs": []
    },
    {
      "cell_type": "markdown",
      "source": [
        "# VI. ETAPA DE EVALUACIÓN DE LA FUNCIÓN DE COSTO"
      ],
      "metadata": {
        "id": "uToN0gEaNmga"
      }
    },
    {
      "cell_type": "code",
      "source": [
        "def cost(weights, bias, X, Y):\n",
        "    predictions = [variational_classifier(weights, bias, x) for x in X]\n",
        "    return square_loss(Y, predictions)"
      ],
      "metadata": {
        "id": "c1wnbV4ROJxu"
      },
      "execution_count": 12,
      "outputs": []
    },
    {
      "cell_type": "markdown",
      "source": [
        "# VII. ETAPA DE ANÁLISIS DE PRECISIÓN"
      ],
      "metadata": {
        "id": "m3a-6bOHNmqh"
      }
    },
    {
      "cell_type": "code",
      "source": [
        "def accuracy(labels, predictions):\n",
        "    correct = 0\n",
        "    for l, p in zip(labels, predictions):\n",
        "        if abs(l - p) < 1e-5:\n",
        "            correct += 1\n",
        "    return correct / len(labels)"
      ],
      "metadata": {
        "id": "YUZXpblNONEE"
      },
      "execution_count": 13,
      "outputs": []
    },
    {
      "cell_type": "markdown",
      "source": [
        "# VIII. PESOS INICIALES DEFINIDOS"
      ],
      "metadata": {
        "id": "w2iJLrTENm1g"
      }
    },
    {
      "cell_type": "code",
      "source": [
        "np.random.seed(0)\n",
        "weights_init = 0.01 * np.random.randn(num_layers, num_qubits, 3, requires_grad=True)\n",
        "bias_init = np.array(0.0, requires_grad=True)\n",
        "\n",
        "weights = weights_init\n",
        "bias = bias_init\n",
        "print(weights_init)\n",
        "print(bias_init)"
      ],
      "metadata": {
        "colab": {
          "base_uri": "https://localhost:8080/"
        },
        "id": "o3RAnXjyOQva",
        "outputId": "7d579b5e-528f-4975-b151-f3387a129d26"
      },
      "execution_count": 14,
      "outputs": [
        {
          "output_type": "stream",
          "name": "stdout",
          "text": [
            "[[[ 0.01764052  0.00400157  0.00978738]\n",
            "  [ 0.02240893  0.01867558 -0.00977278]\n",
            "  [ 0.00950088 -0.00151357 -0.00103219]\n",
            "  [ 0.00410599  0.00144044  0.01454274]]\n",
            "\n",
            " [[ 0.00761038  0.00121675  0.00443863]\n",
            "  [ 0.00333674  0.01494079 -0.00205158]\n",
            "  [ 0.00313068 -0.00854096 -0.0255299 ]\n",
            "  [ 0.00653619  0.00864436 -0.00742165]]]\n",
            "0.0\n"
          ]
        }
      ]
    },
    {
      "cell_type": "markdown",
      "source": [
        "# IX. PESOS FINALES ENTRENADOS"
      ],
      "metadata": {
        "id": "QUf3bAMwNnAz"
      }
    },
    {
      "cell_type": "code",
      "source": [
        "opt = AdamOptimizer(0.125)\n",
        "num_it = 70\n",
        "batch_size = math.floor(len(X_train) / num_it)\n",
        "\n",
        "for it in range(num_it):\n",
        "    batch_index = np.random.randint(0, len(X_train), (batch_size,))\n",
        "    X_batch = X_train[batch_index]\n",
        "    Y_batch = Y_train[batch_index]\n",
        "    weights, bias, _, _ = opt.step(cost, weights, bias, X_batch, Y_batch)\n",
        "\n",
        "    predictions = [np.sign(variational_classifier(weights, bias, x)) for x in X_train]\n",
        "    acc = accuracy(Y_train, predictions)\n",
        "\n",
        "    print(f\"Iter: {it + 1:5d} | Cost: {cost(weights, bias, X_train, Y_train):.7f} | Accuracy: {acc:.7f}\")\n",
        "\n",
        "print(weights)\n",
        "print(bias)"
      ],
      "metadata": {
        "colab": {
          "base_uri": "https://localhost:8080/"
        },
        "id": "PbzMh6pTOUUB",
        "outputId": "46d3b46d-bd9b-41ca-e95b-0e2362bf6446"
      },
      "execution_count": 15,
      "outputs": [
        {
          "output_type": "stream",
          "name": "stdout",
          "text": [
            "Iter:     1 | Cost: 2.3009054 | Accuracy: 0.3657928\n",
            "Iter:     2 | Cost: 2.0157333 | Accuracy: 0.3657928\n",
            "Iter:     3 | Cost: 1.6928554 | Accuracy: 0.3657928\n",
            "Iter:     4 | Cost: 1.4394783 | Accuracy: 0.3657928\n",
            "Iter:     5 | Cost: 1.2992964 | Accuracy: 0.5205993\n",
            "Iter:     6 | Cost: 1.2592430 | Accuracy: 0.6167291\n",
            "Iter:     7 | Cost: 1.2860673 | Accuracy: 0.6167291\n",
            "Iter:     8 | Cost: 1.3340117 | Accuracy: 0.6167291\n",
            "Iter:     9 | Cost: 1.3157367 | Accuracy: 0.6167291\n",
            "Iter:    10 | Cost: 1.2278186 | Accuracy: 0.6167291\n",
            "Iter:    11 | Cost: 1.1070846 | Accuracy: 0.6167291\n",
            "Iter:    12 | Cost: 1.0319251 | Accuracy: 0.6167291\n",
            "Iter:    13 | Cost: 0.9932298 | Accuracy: 0.6167291\n",
            "Iter:    14 | Cost: 0.9745684 | Accuracy: 0.6167291\n",
            "Iter:    15 | Cost: 0.9807690 | Accuracy: 0.7802747\n",
            "Iter:    16 | Cost: 0.9487227 | Accuracy: 0.7802747\n",
            "Iter:    17 | Cost: 0.9169272 | Accuracy: 0.7802747\n",
            "Iter:    18 | Cost: 0.8685417 | Accuracy: 0.7802747\n",
            "Iter:    19 | Cost: 0.8121101 | Accuracy: 0.7802747\n",
            "Iter:    20 | Cost: 0.7734251 | Accuracy: 0.7802747\n",
            "Iter:    21 | Cost: 0.7578252 | Accuracy: 0.7802747\n",
            "Iter:    22 | Cost: 0.7533380 | Accuracy: 0.7802747\n",
            "Iter:    23 | Cost: 0.7540889 | Accuracy: 0.7727840\n",
            "Iter:    24 | Cost: 0.7547410 | Accuracy: 0.7727840\n",
            "Iter:    25 | Cost: 0.7418572 | Accuracy: 0.7727840\n",
            "Iter:    26 | Cost: 0.7216730 | Accuracy: 0.7727840\n",
            "Iter:    27 | Cost: 0.7054738 | Accuracy: 0.7840200\n",
            "Iter:    28 | Cost: 0.6913697 | Accuracy: 0.7840200\n",
            "Iter:    29 | Cost: 0.6826785 | Accuracy: 0.7840200\n",
            "Iter:    30 | Cost: 0.6772999 | Accuracy: 0.7840200\n",
            "Iter:    31 | Cost: 0.6758436 | Accuracy: 0.7840200\n",
            "Iter:    32 | Cost: 0.6825518 | Accuracy: 0.7840200\n",
            "Iter:    33 | Cost: 0.6856851 | Accuracy: 0.7840200\n",
            "Iter:    34 | Cost: 0.6896622 | Accuracy: 0.7840200\n",
            "Iter:    35 | Cost: 0.6943790 | Accuracy: 0.7840200\n",
            "Iter:    36 | Cost: 0.7012850 | Accuracy: 0.7840200\n",
            "Iter:    37 | Cost: 0.7067733 | Accuracy: 0.7840200\n",
            "Iter:    38 | Cost: 0.7103192 | Accuracy: 0.7840200\n",
            "Iter:    39 | Cost: 0.7161690 | Accuracy: 0.7840200\n",
            "Iter:    40 | Cost: 0.7176914 | Accuracy: 0.7840200\n",
            "Iter:    41 | Cost: 0.7134635 | Accuracy: 0.7840200\n",
            "Iter:    42 | Cost: 0.7095454 | Accuracy: 0.7840200\n",
            "Iter:    43 | Cost: 0.7075034 | Accuracy: 0.7840200\n",
            "Iter:    44 | Cost: 0.7016297 | Accuracy: 0.7840200\n",
            "Iter:    45 | Cost: 0.6959733 | Accuracy: 0.7840200\n",
            "Iter:    46 | Cost: 0.6963289 | Accuracy: 0.7840200\n",
            "Iter:    47 | Cost: 0.6943661 | Accuracy: 0.7840200\n",
            "Iter:    48 | Cost: 0.6855695 | Accuracy: 0.7840200\n",
            "Iter:    49 | Cost: 0.6820337 | Accuracy: 0.7840200\n",
            "Iter:    50 | Cost: 0.6739566 | Accuracy: 0.7840200\n",
            "Iter:    51 | Cost: 0.6727428 | Accuracy: 0.7840200\n",
            "Iter:    52 | Cost: 0.6757914 | Accuracy: 0.7840200\n",
            "Iter:    53 | Cost: 0.6806343 | Accuracy: 0.7840200\n",
            "Iter:    54 | Cost: 0.6841203 | Accuracy: 0.7840200\n",
            "Iter:    55 | Cost: 0.6862026 | Accuracy: 0.7840200\n",
            "Iter:    56 | Cost: 0.6912584 | Accuracy: 0.7840200\n",
            "Iter:    57 | Cost: 0.6992686 | Accuracy: 0.7852684\n",
            "Iter:    58 | Cost: 0.7072007 | Accuracy: 0.7852684\n",
            "Iter:    59 | Cost: 0.7130674 | Accuracy: 0.7852684\n",
            "Iter:    60 | Cost: 0.7230222 | Accuracy: 0.7852684\n",
            "Iter:    61 | Cost: 0.7195306 | Accuracy: 0.7852684\n",
            "Iter:    62 | Cost: 0.7081696 | Accuracy: 0.7852684\n",
            "Iter:    63 | Cost: 0.7017707 | Accuracy: 0.7852684\n",
            "Iter:    64 | Cost: 0.6935658 | Accuracy: 0.7840200\n",
            "Iter:    65 | Cost: 0.6855921 | Accuracy: 0.7840200\n",
            "Iter:    66 | Cost: 0.6818968 | Accuracy: 0.7840200\n",
            "Iter:    67 | Cost: 0.6849336 | Accuracy: 0.7840200\n",
            "Iter:    68 | Cost: 0.6827583 | Accuracy: 0.7840200\n",
            "Iter:    69 | Cost: 0.6800306 | Accuracy: 0.7840200\n",
            "Iter:    70 | Cost: 0.6809625 | Accuracy: 0.7840200\n",
            "[[[ 1.76405273e-02  1.62072071e+00  4.53474515e-01]\n",
            "  [ 2.24089342e-02  1.94456302e+00 -2.15431674e+00]\n",
            "  [ 9.50088407e-03  1.20709542e+00  1.16574675e-01]\n",
            "  [ 4.10598622e-03  4.34849692e-01 -5.29636512e-02]]\n",
            "\n",
            " [[ 7.61037848e-03  1.21675062e-03  4.43863356e-03]\n",
            "  [-1.04693033e-01  1.44260145e+00 -2.05157958e-03]\n",
            "  [ 1.49158955e+00 -2.13282131e+00 -2.55298970e-02]\n",
            "  [ 1.84665689e+00  1.95568097e+00 -7.42165150e-03]]]\n",
            "-0.19042059623599075\n"
          ]
        }
      ]
    },
    {
      "cell_type": "markdown",
      "source": [
        "# X. EVALUACIÓN DE DESEMPEÑO DEL CLASIFICADOR CUÁNTICO FINAL"
      ],
      "metadata": {
        "id": "UaxVjAnPNnMX"
      }
    },
    {
      "cell_type": "code",
      "source": [
        "X_test = np.array(X_test.values, requires_grad=False)\n",
        "Y_test = np.array(y_test.values * 2 - np.ones(len(y_test)), requires_grad=False)\n",
        "\n",
        "predictions = [np.sign(variational_classifier(weights, bias, x)) for x in X_test]\n",
        "\n",
        "print(\"Accuracy:\", accuracy_score(Y_test, predictions))\n",
        "print(\"Precision:\", precision_score(Y_test, predictions))\n",
        "print(\"Recall:\", recall_score(Y_test, predictions))\n",
        "print(\"F1 Score:\", f1_score(Y_test, predictions, average='macro'))"
      ],
      "metadata": {
        "colab": {
          "base_uri": "https://localhost:8080/"
        },
        "id": "GHWN6dMSOggt",
        "outputId": "ecb1b438-8437-41a5-bdd0-0ac4eb13c9d6"
      },
      "execution_count": 16,
      "outputs": [
        {
          "output_type": "stream",
          "name": "stdout",
          "text": [
            "Accuracy: 0.7888888888888889\n",
            "Precision: 0.7666666666666667\n",
            "Recall: 0.6571428571428571\n",
            "F1 Score: 0.7712374581939799\n"
          ]
        }
      ]
    }
  ]
}