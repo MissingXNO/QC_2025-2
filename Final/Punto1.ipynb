{
  "nbformat": 4,
  "nbformat_minor": 0,
  "metadata": {
    "colab": {
      "provenance": [],
      "gpuType": "T4"
    },
    "kernelspec": {
      "name": "python3",
      "display_name": "Python 3"
    },
    "language_info": {
      "name": "python"
    },
    "accelerator": "GPU"
  },
  "cells": [
    {
      "cell_type": "code",
      "execution_count": 11,
      "metadata": {
        "colab": {
          "base_uri": "https://localhost:8080/",
          "height": 0
        },
        "id": "Lt2cP9SdIr10",
        "outputId": "d9db47bf-9259-42d9-a8f1-9eabf3902ca1"
      },
      "outputs": [
        {
          "output_type": "stream",
          "name": "stdout",
          "text": [
            "Requirement already satisfied: pennylane in /usr/local/lib/python3.11/dist-packages (0.41.1)\n",
            "Requirement already satisfied: numpy in /usr/local/lib/python3.11/dist-packages (from pennylane) (2.0.2)\n",
            "Requirement already satisfied: scipy in /usr/local/lib/python3.11/dist-packages (from pennylane) (1.15.3)\n",
            "Requirement already satisfied: networkx in /usr/local/lib/python3.11/dist-packages (from pennylane) (3.5)\n",
            "Requirement already satisfied: rustworkx>=0.14.0 in /usr/local/lib/python3.11/dist-packages (from pennylane) (0.16.0)\n",
            "Requirement already satisfied: autograd in /usr/local/lib/python3.11/dist-packages (from pennylane) (1.8.0)\n",
            "Requirement already satisfied: tomlkit in /usr/local/lib/python3.11/dist-packages (from pennylane) (0.13.3)\n",
            "Requirement already satisfied: appdirs in /usr/local/lib/python3.11/dist-packages (from pennylane) (1.4.4)\n",
            "Requirement already satisfied: autoray>=0.6.11 in /usr/local/lib/python3.11/dist-packages (from pennylane) (0.7.2)\n",
            "Requirement already satisfied: cachetools in /usr/local/lib/python3.11/dist-packages (from pennylane) (5.5.2)\n",
            "Requirement already satisfied: pennylane-lightning>=0.41 in /usr/local/lib/python3.11/dist-packages (from pennylane) (0.41.1)\n",
            "Requirement already satisfied: requests in /usr/local/lib/python3.11/dist-packages (from pennylane) (2.32.3)\n",
            "Requirement already satisfied: typing-extensions in /usr/local/lib/python3.11/dist-packages (from pennylane) (4.14.1)\n",
            "Requirement already satisfied: packaging in /usr/local/lib/python3.11/dist-packages (from pennylane) (24.2)\n",
            "Requirement already satisfied: diastatic-malt in /usr/local/lib/python3.11/dist-packages (from pennylane) (2.15.2)\n",
            "Requirement already satisfied: scipy-openblas32>=0.3.26 in /usr/local/lib/python3.11/dist-packages (from pennylane-lightning>=0.41->pennylane) (0.3.30.0.1)\n",
            "Requirement already satisfied: astunparse in /usr/local/lib/python3.11/dist-packages (from diastatic-malt->pennylane) (1.6.3)\n",
            "Requirement already satisfied: gast in /usr/local/lib/python3.11/dist-packages (from diastatic-malt->pennylane) (0.6.0)\n",
            "Requirement already satisfied: termcolor in /usr/local/lib/python3.11/dist-packages (from diastatic-malt->pennylane) (3.1.0)\n",
            "Requirement already satisfied: charset-normalizer<4,>=2 in /usr/local/lib/python3.11/dist-packages (from requests->pennylane) (3.4.2)\n",
            "Requirement already satisfied: idna<4,>=2.5 in /usr/local/lib/python3.11/dist-packages (from requests->pennylane) (3.10)\n",
            "Requirement already satisfied: urllib3<3,>=1.21.1 in /usr/local/lib/python3.11/dist-packages (from requests->pennylane) (2.4.0)\n",
            "Requirement already satisfied: certifi>=2017.4.17 in /usr/local/lib/python3.11/dist-packages (from requests->pennylane) (2025.7.9)\n",
            "Requirement already satisfied: wheel<1.0,>=0.23.0 in /usr/local/lib/python3.11/dist-packages (from astunparse->diastatic-malt->pennylane) (0.45.1)\n",
            "Requirement already satisfied: six<2.0,>=1.6.1 in /usr/local/lib/python3.11/dist-packages (from astunparse->diastatic-malt->pennylane) (1.17.0)\n"
          ]
        }
      ],
      "source": [
        "!pip install pennylane"
      ]
    },
    {
      "cell_type": "code",
      "source": [
        "import pennylane as qml\n",
        "from pennylane import numpy as np\n",
        "from pennylane.optimize import AdamOptimizer\n",
        "\n",
        "from sklearn.model_selection import train_test_split\n",
        "import pandas as pd\n",
        "\n",
        "from sklearn.metrics import accuracy_score\n",
        "from sklearn.metrics import f1_score\n",
        "from sklearn.metrics import precision_score\n",
        "from sklearn.metrics import recall_score\n",
        "\n",
        "import math"
      ],
      "metadata": {
        "id": "OChqcOjkJTUx"
      },
      "execution_count": 12,
      "outputs": []
    },
    {
      "cell_type": "markdown",
      "source": [
        "## Preprocesamiento de data\n",
        "\n"
      ],
      "metadata": {
        "id": "ec3zSuLxJMAF"
      }
    },
    {
      "cell_type": "code",
      "source": [],
      "metadata": {
        "id": "hhMS1w8IJPb6"
      },
      "execution_count": 12,
      "outputs": []
    },
    {
      "cell_type": "markdown",
      "source": [
        "## Feature map"
      ],
      "metadata": {
        "id": "YjkoZjYoKJNz"
      }
    },
    {
      "cell_type": "code",
      "source": [
        "num_qubits = 4\n",
        "num_layers = 2\n",
        "\n",
        "dev = qml.device(\"default.qubit\", wires=num_qubits)\n",
        "\n",
        "# quantum circuit functions\n",
        "def statepreparation(x):\n",
        "    qml.BasisEmbedding(x, wires=range(0, num_qubits))"
      ],
      "metadata": {
        "id": "5uV2zDpuKLGD"
      },
      "execution_count": 13,
      "outputs": []
    },
    {
      "cell_type": "markdown",
      "source": [
        "## Anzats"
      ],
      "metadata": {
        "id": "MBz8z-p_KUuW"
      }
    },
    {
      "cell_type": "code",
      "source": [
        "def layer(W):\n",
        "\n",
        "    qml.Rot(W[0, 0], W[0, 1], W[0, 2], wires=0)\n",
        "    qml.Rot(W[1, 0], W[1, 1], W[1, 2], wires=1)\n",
        "    qml.Rot(W[2, 0], W[2, 1], W[2, 2], wires=2)\n",
        "    qml.Rot(W[3, 0], W[3, 1], W[3, 2], wires=3)\n",
        "\n",
        "    qml.CNOT(wires=[0, 1])\n",
        "    qml.CNOT(wires=[1, 2])\n",
        "    qml.CNOT(wires=[2, 3])\n",
        "    qml.CNOT(wires=[3, 0])"
      ],
      "metadata": {
        "id": "mDfcFqolKZqm"
      },
      "execution_count": 14,
      "outputs": []
    },
    {
      "cell_type": "code",
      "source": [
        "@qml.qnode(dev, interface=\"autograd\")\n",
        "def circuit(weights, x):\n",
        "\n",
        "    statepreparation(x)\n",
        "\n",
        "    for W in weights:\n",
        "        layer(W)\n",
        "\n",
        "    return qml.expval(qml.PauliZ(0))"
      ],
      "metadata": {
        "id": "LGlsfgQaQ_nE"
      },
      "execution_count": 15,
      "outputs": []
    },
    {
      "cell_type": "markdown",
      "source": [
        "## Circuito cuántico sesgado"
      ],
      "metadata": {
        "id": "eTpQH6jIKvXa"
      }
    },
    {
      "cell_type": "code",
      "source": [
        "def variational_classifier(weights, bias, x):\n",
        "    return circuit(weights, x) + bias"
      ],
      "metadata": {
        "id": "gKW-cSDbLRY9"
      },
      "execution_count": 16,
      "outputs": []
    },
    {
      "cell_type": "markdown",
      "source": [
        "## Función de pérdida"
      ],
      "metadata": {
        "id": "5HcpVUD7LVEe"
      }
    },
    {
      "cell_type": "code",
      "source": [
        "def square_loss(labels, predictions):\n",
        "    loss = 0\n",
        "    for l, p in zip(labels, predictions):\n",
        "        loss = loss + (l - p) ** 2\n",
        "\n",
        "    loss = loss / len(labels)\n",
        "    return loss"
      ],
      "metadata": {
        "id": "t2lkNcy8LXTI"
      },
      "execution_count": 17,
      "outputs": []
    },
    {
      "cell_type": "markdown",
      "source": [
        "## Evaluación de desempeño del clasificador"
      ],
      "metadata": {
        "id": "OYBcalOELej-"
      }
    },
    {
      "cell_type": "code",
      "source": [
        "def accuracy(labels, predictions):\n",
        "\n",
        "    loss = 0\n",
        "    for l, p in zip(labels, predictions):\n",
        "        if abs(l - p) < 1e-5:\n",
        "            loss = loss + 1\n",
        "    loss = loss / len(labels)\n",
        "\n",
        "    return loss"
      ],
      "metadata": {
        "id": "Etnh7CpCLt-1"
      },
      "execution_count": 18,
      "outputs": []
    },
    {
      "cell_type": "markdown",
      "source": [
        "## Evaluación de función de costo"
      ],
      "metadata": {
        "id": "IZi-NB-jLvgd"
      }
    },
    {
      "cell_type": "code",
      "source": [
        "def cost(weights, bias, X, Y):\n",
        "    predictions = [variational_classifier(weights, bias, x) for x in X]\n",
        "    return square_loss(Y, predictions)"
      ],
      "metadata": {
        "id": "lgGC3hvMLvLm"
      },
      "execution_count": 19,
      "outputs": []
    },
    {
      "cell_type": "markdown",
      "source": [
        "Descompresión del dataset"
      ],
      "metadata": {
        "id": "oXAkEHu0NSnP"
      }
    },
    {
      "cell_type": "code",
      "source": [
        "# Descomprimir el archivo titanic.zip\n",
        "import zipfile\n",
        "\n",
        "with zipfile.ZipFile('titanic.zip', 'r') as zip_ref:\n",
        "    zip_ref.extractall('titanic_data')  # Opcional: extrae en carpeta \"titanic_data\"\n",
        "\n",
        "# Verifica los archivos extraídos\n",
        "import os\n",
        "\n",
        "print(\"Archivos extraídos:\")\n",
        "print(os.listdir('titanic_data'))\n"
      ],
      "metadata": {
        "colab": {
          "base_uri": "https://localhost:8080/",
          "height": 0
        },
        "id": "8tr60jp3NR7t",
        "outputId": "b9d72b81-1d81-47ee-bbca-26ace9a08853"
      },
      "execution_count": 20,
      "outputs": [
        {
          "output_type": "stream",
          "name": "stdout",
          "text": [
            "Archivos extraídos:\n",
            "['train.csv', 'test.csv', 'gender_submission.csv']\n"
          ]
        }
      ]
    },
    {
      "cell_type": "markdown",
      "source": [
        "# MAIN"
      ],
      "metadata": {
        "id": "tUo8oIW6OM0g"
      }
    },
    {
      "cell_type": "markdown",
      "source": [
        "## PREPROCESAMIENTO"
      ],
      "metadata": {
        "id": "8blFsY_lOb-w"
      }
    },
    {
      "cell_type": "code",
      "source": [
        "# preparaing data\n",
        "df_train = pd.read_csv('/content/titanic_data/train.csv')\n",
        "\n",
        "df_train['Pclass'] = df_train['Pclass'].astype(str)\n",
        "\n",
        "df_train = pd.concat([df_train, pd.get_dummies(df_train[['Pclass', 'Sex', 'Embarked']])], axis=1)\n",
        "\n",
        "# I will fill missings with the median\n",
        "df_train['Age'] = df_train['Age'].fillna(df_train['Age'].median())\n",
        "\n",
        "df_train['is_child'] = df_train['Age'].map(lambda x: 1 if x < 12 else 0)\n",
        "cols_model = ['is_child', 'Pclass_1', 'Pclass_2', 'Sex_female']\n",
        "\n",
        "# Se guardan en variables separadas (X_train y X_test) los datos de entrenamiento y de prueba --------------------------\n",
        "X_train, X_test, y_train, y_test = train_test_split(df_train[cols_model], df_train['Survived'], test_size=0.10, random_state=42, stratify=df_train['Survived'])\n",
        "\n",
        "X_train = np.array(X_train.values, requires_grad=False)\n",
        "Y_train = np.array(y_train.values * 2 - np.ones(len(y_train)), requires_grad=False)\n",
        "\n"
      ],
      "metadata": {
        "id": "PxUkH-3oOMKg"
      },
      "execution_count": 21,
      "outputs": []
    },
    {
      "cell_type": "markdown",
      "source": [
        "## Inicializacion de parametros"
      ],
      "metadata": {
        "id": "vZ3yFxG4OegW"
      }
    },
    {
      "cell_type": "code",
      "source": [
        "# setting init params\n",
        "np.random.seed(0)\n",
        "weights_init = 0.01 * np.random.randn(num_layers, num_qubits, 3, requires_grad=True)\n",
        "bias_init = np.array(0.0, requires_grad=True)\n",
        "\n",
        "opt = AdamOptimizer(0.125)\n",
        "num_it = 70\n",
        "batch_size = math.floor(len(X_train)/num_it)\n",
        "\n",
        "weights = weights_init\n",
        "bias = bias_init"
      ],
      "metadata": {
        "id": "TDU5Nk9QPmDk"
      },
      "execution_count": 22,
      "outputs": []
    },
    {
      "cell_type": "code",
      "source": [
        "print(weights_init)\n",
        "print(bias_init)"
      ],
      "metadata": {
        "colab": {
          "base_uri": "https://localhost:8080/",
          "height": 0
        },
        "id": "9iMuxswmVxrs",
        "outputId": "318cea7d-0563-48d5-d573-84564905f261"
      },
      "execution_count": 23,
      "outputs": [
        {
          "output_type": "stream",
          "name": "stdout",
          "text": [
            "[[[ 0.01764052  0.00400157  0.00978738]\n",
            "  [ 0.02240893  0.01867558 -0.00977278]\n",
            "  [ 0.00950088 -0.00151357 -0.00103219]\n",
            "  [ 0.00410599  0.00144044  0.01454274]]\n",
            "\n",
            " [[ 0.00761038  0.00121675  0.00443863]\n",
            "  [ 0.00333674  0.01494079 -0.00205158]\n",
            "  [ 0.00313068 -0.00854096 -0.0255299 ]\n",
            "  [ 0.00653619  0.00864436 -0.00742165]]]\n",
            "0.0\n"
          ]
        }
      ]
    },
    {
      "cell_type": "markdown",
      "source": [
        "## Entrenamiento"
      ],
      "metadata": {
        "id": "OXuuyIrTP8PY"
      }
    },
    {
      "cell_type": "code",
      "source": [
        "for it in range(num_it):\n",
        "\n",
        "    # Update the weights by one optimizer step\n",
        "    batch_index = np.random.randint(0, len(X_train), (batch_size,))\n",
        "    X_batch = X_train[batch_index]\n",
        "    Y_batch = Y_train[batch_index]\n",
        "    weights, bias, _, _ = opt.step(cost, weights, bias, X_batch, Y_batch)\n",
        "\n",
        "    # Compute accuracy\n",
        "    predictions = [np.sign(variational_classifier(weights, bias, x)) for x in X_train]\n",
        "    acc = accuracy(Y_train, predictions)\n",
        "\n",
        "    print(\n",
        "        \"Iter: {:5d} | Cost: {:0.7f} | Accuracy: {:0.7f} \".format(\n",
        "            it + 1, cost(weights, bias, X_train, Y_train), acc\n",
        "        )\n",
        "    )"
      ],
      "metadata": {
        "colab": {
          "base_uri": "https://localhost:8080/",
          "height": 0
        },
        "id": "y-OG5ahRP8vD",
        "outputId": "8de1d072-ae92-4a48-a1be-cbc4bed183b9"
      },
      "execution_count": 24,
      "outputs": [
        {
          "output_type": "stream",
          "name": "stdout",
          "text": [
            "Iter:     1 | Cost: 2.3009054 | Accuracy: 0.3657928 \n",
            "Iter:     2 | Cost: 2.0157333 | Accuracy: 0.3657928 \n",
            "Iter:     3 | Cost: 1.6928554 | Accuracy: 0.3657928 \n",
            "Iter:     4 | Cost: 1.4394783 | Accuracy: 0.3657928 \n",
            "Iter:     5 | Cost: 1.2992964 | Accuracy: 0.5205993 \n",
            "Iter:     6 | Cost: 1.2592430 | Accuracy: 0.6167291 \n",
            "Iter:     7 | Cost: 1.2860673 | Accuracy: 0.6167291 \n",
            "Iter:     8 | Cost: 1.3340117 | Accuracy: 0.6167291 \n",
            "Iter:     9 | Cost: 1.3157367 | Accuracy: 0.6167291 \n",
            "Iter:    10 | Cost: 1.2278186 | Accuracy: 0.6167291 \n",
            "Iter:    11 | Cost: 1.1070846 | Accuracy: 0.6167291 \n",
            "Iter:    12 | Cost: 1.0319251 | Accuracy: 0.6167291 \n",
            "Iter:    13 | Cost: 0.9932298 | Accuracy: 0.6167291 \n",
            "Iter:    14 | Cost: 0.9745684 | Accuracy: 0.6167291 \n",
            "Iter:    15 | Cost: 0.9807690 | Accuracy: 0.7802747 \n",
            "Iter:    16 | Cost: 0.9487227 | Accuracy: 0.7802747 \n",
            "Iter:    17 | Cost: 0.9169272 | Accuracy: 0.7802747 \n",
            "Iter:    18 | Cost: 0.8685417 | Accuracy: 0.7802747 \n",
            "Iter:    19 | Cost: 0.8121101 | Accuracy: 0.7802747 \n",
            "Iter:    20 | Cost: 0.7734251 | Accuracy: 0.7802747 \n",
            "Iter:    21 | Cost: 0.7578252 | Accuracy: 0.7802747 \n",
            "Iter:    22 | Cost: 0.7533380 | Accuracy: 0.7802747 \n",
            "Iter:    23 | Cost: 0.7540889 | Accuracy: 0.7727840 \n",
            "Iter:    24 | Cost: 0.7547410 | Accuracy: 0.7727840 \n",
            "Iter:    25 | Cost: 0.7418572 | Accuracy: 0.7727840 \n",
            "Iter:    26 | Cost: 0.7216730 | Accuracy: 0.7727840 \n",
            "Iter:    27 | Cost: 0.7054738 | Accuracy: 0.7840200 \n",
            "Iter:    28 | Cost: 0.6913697 | Accuracy: 0.7840200 \n",
            "Iter:    29 | Cost: 0.6826785 | Accuracy: 0.7840200 \n",
            "Iter:    30 | Cost: 0.6772999 | Accuracy: 0.7840200 \n",
            "Iter:    31 | Cost: 0.6758436 | Accuracy: 0.7840200 \n",
            "Iter:    32 | Cost: 0.6825518 | Accuracy: 0.7840200 \n",
            "Iter:    33 | Cost: 0.6856851 | Accuracy: 0.7840200 \n",
            "Iter:    34 | Cost: 0.6896622 | Accuracy: 0.7840200 \n",
            "Iter:    35 | Cost: 0.6943790 | Accuracy: 0.7840200 \n",
            "Iter:    36 | Cost: 0.7012850 | Accuracy: 0.7840200 \n",
            "Iter:    37 | Cost: 0.7067733 | Accuracy: 0.7840200 \n",
            "Iter:    38 | Cost: 0.7103192 | Accuracy: 0.7840200 \n",
            "Iter:    39 | Cost: 0.7161690 | Accuracy: 0.7840200 \n",
            "Iter:    40 | Cost: 0.7176914 | Accuracy: 0.7840200 \n",
            "Iter:    41 | Cost: 0.7134635 | Accuracy: 0.7840200 \n",
            "Iter:    42 | Cost: 0.7095454 | Accuracy: 0.7840200 \n",
            "Iter:    43 | Cost: 0.7075034 | Accuracy: 0.7840200 \n",
            "Iter:    44 | Cost: 0.7016297 | Accuracy: 0.7840200 \n",
            "Iter:    45 | Cost: 0.6959733 | Accuracy: 0.7840200 \n",
            "Iter:    46 | Cost: 0.6963289 | Accuracy: 0.7840200 \n",
            "Iter:    47 | Cost: 0.6943661 | Accuracy: 0.7840200 \n",
            "Iter:    48 | Cost: 0.6855695 | Accuracy: 0.7840200 \n",
            "Iter:    49 | Cost: 0.6820337 | Accuracy: 0.7840200 \n",
            "Iter:    50 | Cost: 0.6739566 | Accuracy: 0.7840200 \n",
            "Iter:    51 | Cost: 0.6727428 | Accuracy: 0.7840200 \n",
            "Iter:    52 | Cost: 0.6757914 | Accuracy: 0.7840200 \n",
            "Iter:    53 | Cost: 0.6806343 | Accuracy: 0.7840200 \n",
            "Iter:    54 | Cost: 0.6841203 | Accuracy: 0.7840200 \n",
            "Iter:    55 | Cost: 0.6862026 | Accuracy: 0.7840200 \n",
            "Iter:    56 | Cost: 0.6912584 | Accuracy: 0.7840200 \n",
            "Iter:    57 | Cost: 0.6992686 | Accuracy: 0.7852684 \n",
            "Iter:    58 | Cost: 0.7072007 | Accuracy: 0.7852684 \n",
            "Iter:    59 | Cost: 0.7130674 | Accuracy: 0.7852684 \n",
            "Iter:    60 | Cost: 0.7230222 | Accuracy: 0.7852684 \n",
            "Iter:    61 | Cost: 0.7195306 | Accuracy: 0.7852684 \n",
            "Iter:    62 | Cost: 0.7081696 | Accuracy: 0.7852684 \n",
            "Iter:    63 | Cost: 0.7017707 | Accuracy: 0.7852684 \n",
            "Iter:    64 | Cost: 0.6935658 | Accuracy: 0.7840200 \n",
            "Iter:    65 | Cost: 0.6855921 | Accuracy: 0.7840200 \n",
            "Iter:    66 | Cost: 0.6818968 | Accuracy: 0.7840200 \n",
            "Iter:    67 | Cost: 0.6849336 | Accuracy: 0.7840200 \n",
            "Iter:    68 | Cost: 0.6827583 | Accuracy: 0.7840200 \n",
            "Iter:    69 | Cost: 0.6800306 | Accuracy: 0.7840200 \n",
            "Iter:    70 | Cost: 0.6809625 | Accuracy: 0.7840200 \n"
          ]
        }
      ]
    },
    {
      "cell_type": "markdown",
      "source": [
        "## Pesos entrenados y bias"
      ],
      "metadata": {
        "id": "zGqLeoq9Tee-"
      }
    },
    {
      "cell_type": "code",
      "source": [
        "print(weights)\n",
        "print(bias)"
      ],
      "metadata": {
        "colab": {
          "base_uri": "https://localhost:8080/",
          "height": 0
        },
        "id": "l5XMeVorTcvn",
        "outputId": "ed72b514-831d-4d6a-b760-dad38c48091d"
      },
      "execution_count": 25,
      "outputs": [
        {
          "output_type": "stream",
          "name": "stdout",
          "text": [
            "[[[ 1.76405237e-02  1.62072071e+00  4.53474515e-01]\n",
            "  [ 2.24089329e-02  1.94456302e+00 -2.15431674e+00]\n",
            "  [ 9.50088520e-03  1.20709542e+00  1.16574675e-01]\n",
            "  [ 4.10598599e-03  4.34849692e-01 -5.29636512e-02]]\n",
            "\n",
            " [[ 7.61037851e-03  1.21675493e-03  4.43863359e-03]\n",
            "  [-1.04693033e-01  1.44260145e+00 -2.05158245e-03]\n",
            "  [ 1.49158955e+00 -2.13282131e+00 -2.55298968e-02]\n",
            "  [ 1.84665689e+00  1.95568097e+00 -7.42165074e-03]]]\n",
            "-0.1904205962359901\n"
          ]
        }
      ]
    },
    {
      "cell_type": "markdown",
      "source": [
        "## Organización de datos"
      ],
      "metadata": {
        "id": "Ai0xYoeYQTHe"
      }
    },
    {
      "cell_type": "code",
      "source": [
        "X_test = np.array(X_test.values, requires_grad=False)\n",
        "Y_test = np.array(y_test.values * 2 - np.ones(len(y_test)), requires_grad=False)\n"
      ],
      "metadata": {
        "id": "nDORq-3gQSil"
      },
      "execution_count": 26,
      "outputs": []
    },
    {
      "cell_type": "markdown",
      "source": [
        "## Predicción"
      ],
      "metadata": {
        "id": "YipVHZkTQVu9"
      }
    },
    {
      "cell_type": "code",
      "source": [
        "predictions = [np.sign(variational_classifier(weights, bias, x)) for x in X_test]\n"
      ],
      "metadata": {
        "id": "5sNqtZYcQXEv"
      },
      "execution_count": 27,
      "outputs": []
    },
    {
      "cell_type": "markdown",
      "source": [
        "## Evaluación de métricas de precisi+on"
      ],
      "metadata": {
        "id": "juOvDaGTQaKf"
      }
    },
    {
      "cell_type": "code",
      "source": [
        "accuracy_score(Y_test, predictions)\n",
        "precision_score(Y_test, predictions)\n",
        "recall_score(Y_test, predictions)\n",
        "f1_score(Y_test, predictions, average='macro')"
      ],
      "metadata": {
        "colab": {
          "base_uri": "https://localhost:8080/",
          "height": 0
        },
        "id": "De6KihUKQk22",
        "outputId": "dffcf333-ad94-41dd-9b38-c1ba44e4957d"
      },
      "execution_count": 28,
      "outputs": [
        {
          "output_type": "execute_result",
          "data": {
            "text/plain": [
              "0.7712374581939799"
            ]
          },
          "metadata": {},
          "execution_count": 28
        }
      ]
    }
  ]
}