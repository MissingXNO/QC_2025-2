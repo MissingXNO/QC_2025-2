{
  "cells": [
    {
      "cell_type": "code",
      "execution_count": 3,
      "metadata": {
        "colab": {
          "base_uri": "https://localhost:8080/"
        },
        "id": "Lt2cP9SdIr10",
        "outputId": "117ebc8e-be71-4568-90b2-4b1dd36e6f4b"
      },
      "outputs": [
        {
          "output_type": "stream",
          "name": "stdout",
          "text": [
            "Requirement already satisfied: pennylane in /usr/local/lib/python3.11/dist-packages (0.41.1)\n",
            "Requirement already satisfied: numpy in /usr/local/lib/python3.11/dist-packages (from pennylane) (2.0.2)\n",
            "Requirement already satisfied: scipy in /usr/local/lib/python3.11/dist-packages (from pennylane) (1.15.3)\n",
            "Requirement already satisfied: networkx in /usr/local/lib/python3.11/dist-packages (from pennylane) (3.5)\n",
            "Requirement already satisfied: rustworkx>=0.14.0 in /usr/local/lib/python3.11/dist-packages (from pennylane) (0.16.0)\n",
            "Requirement already satisfied: autograd in /usr/local/lib/python3.11/dist-packages (from pennylane) (1.8.0)\n",
            "Requirement already satisfied: tomlkit in /usr/local/lib/python3.11/dist-packages (from pennylane) (0.13.3)\n",
            "Requirement already satisfied: appdirs in /usr/local/lib/python3.11/dist-packages (from pennylane) (1.4.4)\n",
            "Requirement already satisfied: autoray>=0.6.11 in /usr/local/lib/python3.11/dist-packages (from pennylane) (0.7.2)\n",
            "Requirement already satisfied: cachetools in /usr/local/lib/python3.11/dist-packages (from pennylane) (5.5.2)\n",
            "Requirement already satisfied: pennylane-lightning>=0.41 in /usr/local/lib/python3.11/dist-packages (from pennylane) (0.41.1)\n",
            "Requirement already satisfied: requests in /usr/local/lib/python3.11/dist-packages (from pennylane) (2.32.3)\n",
            "Requirement already satisfied: typing-extensions in /usr/local/lib/python3.11/dist-packages (from pennylane) (4.14.1)\n",
            "Requirement already satisfied: packaging in /usr/local/lib/python3.11/dist-packages (from pennylane) (24.2)\n",
            "Requirement already satisfied: diastatic-malt in /usr/local/lib/python3.11/dist-packages (from pennylane) (2.15.2)\n",
            "Requirement already satisfied: scipy-openblas32>=0.3.26 in /usr/local/lib/python3.11/dist-packages (from pennylane-lightning>=0.41->pennylane) (0.3.30.0.1)\n",
            "Requirement already satisfied: astunparse in /usr/local/lib/python3.11/dist-packages (from diastatic-malt->pennylane) (1.6.3)\n",
            "Requirement already satisfied: gast in /usr/local/lib/python3.11/dist-packages (from diastatic-malt->pennylane) (0.6.0)\n",
            "Requirement already satisfied: termcolor in /usr/local/lib/python3.11/dist-packages (from diastatic-malt->pennylane) (3.1.0)\n",
            "Requirement already satisfied: charset-normalizer<4,>=2 in /usr/local/lib/python3.11/dist-packages (from requests->pennylane) (3.4.2)\n",
            "Requirement already satisfied: idna<4,>=2.5 in /usr/local/lib/python3.11/dist-packages (from requests->pennylane) (3.10)\n",
            "Requirement already satisfied: urllib3<3,>=1.21.1 in /usr/local/lib/python3.11/dist-packages (from requests->pennylane) (2.4.0)\n",
            "Requirement already satisfied: certifi>=2017.4.17 in /usr/local/lib/python3.11/dist-packages (from requests->pennylane) (2025.7.9)\n",
            "Requirement already satisfied: wheel<1.0,>=0.23.0 in /usr/local/lib/python3.11/dist-packages (from astunparse->diastatic-malt->pennylane) (0.45.1)\n",
            "Requirement already satisfied: six<2.0,>=1.6.1 in /usr/local/lib/python3.11/dist-packages (from astunparse->diastatic-malt->pennylane) (1.17.0)\n"
          ]
        }
      ],
      "source": [
        "!pip install pennylane"
      ]
    },
    {
      "cell_type": "markdown",
      "metadata": {
        "id": "41fde86e"
      },
      "source": [
        "## I. PREPROCESAMIENTO DE LOS DATOS DE ENTRADA"
      ]
    },
    {
      "cell_type": "code",
      "source": [
        "import zipfile # Necesaria para la extracción del archivo .zip que contiene las carpetas con los conjuntos de datos\n",
        "import pandas as pd # Útil para representación de métricas\n",
        "\n",
        "with zipfile.ZipFile(\"titanic.zip\", 'r') as zip_ref:\n",
        "    zip_ref.extractall(\"titanic_data\")\n",
        "\n",
        "df = pd.read_csv(\"titanic_data/train.csv\")\n",
        "df['Pclass'] = df['Pclass'].astype(str)\n",
        "df = pd.concat([df, pd.get_dummies(df[['Pclass', 'Sex', 'Embarked']])], axis=1)\n",
        "df['Age'] = df['Age'].fillna(df['Age'].median())\n",
        "df['is_child'] = df['Age'].map(lambda x: 1 if x < 12 else 0)\n",
        "\n",
        "cols = ['is_child', 'Pclass_1', 'Pclass_2', 'Sex_female']\n",
        "X = df[cols].astype(int).values\n",
        "Y = (df['Survived'] * 2 - 1).values  # {0,1} → {-1,1}"
      ],
      "metadata": {
        "id": "aNdNigufKt3r"
      },
      "execution_count": 4,
      "outputs": []
    },
    {
      "cell_type": "markdown",
      "source": [
        "## II. DIVISIÓN DE LOS DATOS DE ENTRENAMIENTO Y DATOS DE PRUEBA"
      ],
      "metadata": {
        "id": "-AkRt81JJ8IK"
      }
    },
    {
      "cell_type": "code",
      "source": [
        "from sklearn.model_selection import train_test_split\n",
        "from pennylane import numpy as np\n",
        "\n",
        "X_train, X_test, Y_train, Y_test = train_test_split(X, Y, test_size=0.2, random_state=42)\n",
        "X_train = np.array(X_train, requires_grad=False, dtype=int)\n",
        "X_test = np.array(X_test, requires_grad=False, dtype=int)\n",
        "Y_train = np.array(Y_train, requires_grad=False)\n",
        "Y_test = np.array(Y_test, requires_grad=False)"
      ],
      "metadata": {
        "colab": {
          "base_uri": "https://localhost:8080/"
        },
        "id": "FKey8j9uKxa5",
        "outputId": "183b909a-37d7-44c3-f65a-1aa4ce4eb69f"
      },
      "execution_count": 5,
      "outputs": [
        {
          "output_type": "stream",
          "name": "stderr",
          "text": [
            "/usr/local/lib/python3.11/dist-packages/pennylane/capture/capture_operators.py:33: RuntimeWarning: PennyLane is not yet compatible with JAX versions > 0.4.28. You have version 0.5.2 installed. Please downgrade JAX to <=0.4.28 to avoid runtime errors.\n",
            "  warnings.warn(\n"
          ]
        }
      ]
    },
    {
      "cell_type": "markdown",
      "source": [
        "## III. ETAPA DEL FEATURE MAP"
      ],
      "metadata": {
        "id": "PcfIXL9mKBwR"
      }
    },
    {
      "cell_type": "code",
      "source": [
        "def stateprep(x):\n",
        "    qml.BasisEmbedding(x, wires=range(4))  # num_qubits = 4"
      ],
      "metadata": {
        "id": "FS8Sqd4ZK19n"
      },
      "execution_count": 6,
      "outputs": []
    },
    {
      "cell_type": "markdown",
      "source": [
        "## IV. ETAPA DEL ANSATZ"
      ],
      "metadata": {
        "id": "1Pb1EsmTKKYT"
      }
    },
    {
      "cell_type": "code",
      "source": [
        "import pennylane as qml\n",
        "num_qubits = 4\n",
        "num_layers = 4\n",
        "dev = qml.device(\"default.qubit\", wires=num_qubits)\n",
        "\n",
        "@qml.qnode(dev, interface=\"autograd\")\n",
        "def qnode_cost(param_pack):\n",
        "    weights, x = param_pack\n",
        "    stateprep(x)\n",
        "    qml.StronglyEntanglingLayers(weights, wires=range(num_qubits))\n",
        "    return qml.expval(qml.PauliZ(0))\n",
        "\n",
        "@qml.qnode(dev, interface=\"autograd\")\n",
        "def qnode_only_weights(weights):\n",
        "    stateprep(global_x_batch[0])\n",
        "    qml.StronglyEntanglingLayers(weights, wires=range(num_qubits))\n",
        "    return qml.expval(qml.PauliZ(0))\n",
        "\n",
        "def classifier(weights, bias, x):\n",
        "    return qnode_cost((weights, x)) + bias"
      ],
      "metadata": {
        "id": "ztpQOtdhK4zw"
      },
      "execution_count": 7,
      "outputs": []
    },
    {
      "cell_type": "markdown",
      "source": [
        "## V. ETAPA DE FUNCIÓN DE PERDIDA"
      ],
      "metadata": {
        "id": "qDtgE5T1KQfj"
      }
    },
    {
      "cell_type": "code",
      "source": [
        "# La pérdida utilizada es: L = (y - pred)^2\n",
        "# Se implementa de forma manual más adelante en la parte de entrenamiento"
      ],
      "metadata": {
        "id": "VMEA8wT4LAGa"
      },
      "execution_count": 8,
      "outputs": []
    },
    {
      "cell_type": "markdown",
      "source": [
        "## VI. ETAPA DE EVALUACIÓN DE LA FUNCIÓN DE COSTO"
      ],
      "metadata": {
        "id": "SaUpaqbrKV73"
      }
    },
    {
      "cell_type": "code",
      "source": [
        "from pennylane.optimize import QNGOptimizer\n",
        "qng_opt = QNGOptimizer(stepsize=0.1)\n",
        "bias_lr = 0.01"
      ],
      "metadata": {
        "id": "hEAN7pv-LBDp"
      },
      "execution_count": 9,
      "outputs": []
    },
    {
      "cell_type": "markdown",
      "source": [
        "## VII. ETAPA DE ANÁLISIS DE PRECISIÓN"
      ],
      "metadata": {
        "id": "dzbLbatDKYMJ"
      }
    },
    {
      "cell_type": "code",
      "source": [
        "from sklearn.metrics import accuracy_score\n",
        "\n",
        "def evaluate_accuracy(X, Y, weights, bias):\n",
        "    preds = [np.sign(classifier(weights, bias, x)) for x in X]\n",
        "    return accuracy_score(Y, preds)"
      ],
      "metadata": {
        "id": "YVTLEjA2LL42"
      },
      "execution_count": 10,
      "outputs": []
    },
    {
      "cell_type": "markdown",
      "source": [
        "## VIII. PESOS INICIALES DEFINIDOS"
      ],
      "metadata": {
        "id": "LDgMgIBLKfHA"
      }
    },
    {
      "cell_type": "code",
      "source": [
        "shape = qml.StronglyEntanglingLayers.shape(num_layers, num_qubits)\n",
        "weights = 0.1 * np.random.randn(*shape)\n",
        "weights.requires_grad = True\n",
        "bias = np.tensor(0.0, requires_grad=True)"
      ],
      "metadata": {
        "id": "mv82Q84vLMrB"
      },
      "execution_count": 11,
      "outputs": []
    },
    {
      "cell_type": "markdown",
      "source": [
        "## IX. PESOS FINALES ENTRENADOS"
      ],
      "metadata": {
        "id": "HRDTLZMkKil3"
      }
    },
    {
      "cell_type": "code",
      "source": [
        "print(\"== INICIO DEL ENTRENAMIENTO ==\")\n",
        "batch_size = 16\n",
        "num_epochs = 100\n",
        "log_interval = 5\n",
        "\n",
        "acc_hist = []\n",
        "bias_hist = []\n",
        "\n",
        "for it in range(num_epochs):\n",
        "    idx = np.random.choice(len(X_train), batch_size, replace=False)\n",
        "    global_x_batch = X_train[idx]\n",
        "    y_batch = Y_train[idx]\n",
        "\n",
        "    # Paso 1: actualizar pesos\n",
        "    metric_tensor = qml.adjoint_metric_tensor(qnode_only_weights)\n",
        "    weights = qng_opt.step(qnode_only_weights, weights, metric_tensor_fn=metric_tensor)\n",
        "    weights.requires_grad = True\n",
        "\n",
        "    # Paso 2: actualizar bias\n",
        "    preds = np.array([classifier(weights, bias, xi) for xi in global_x_batch])\n",
        "    grads = -2 * (y_batch - preds)\n",
        "    avg_grad = np.mean(grads)\n",
        "    bias = bias - bias_lr * avg_grad\n",
        "\n",
        "    if it % log_interval == 0 or it == num_epochs - 1:\n",
        "        acc = evaluate_accuracy(X_train, Y_train, weights, bias)\n",
        "        acc_hist.append(acc)\n",
        "        bias_hist.append(bias.item())\n",
        "        print(f\"Iter {it:3d} | Accuracy: {acc:.3f} | Bias: {bias:.3f}\")"
      ],
      "metadata": {
        "colab": {
          "base_uri": "https://localhost:8080/"
        },
        "id": "SekYM_X6LPpM",
        "outputId": "27470533-88c3-4d44-e5c4-3843ca9038a6"
      },
      "execution_count": 12,
      "outputs": [
        {
          "output_type": "stream",
          "name": "stdout",
          "text": [
            "== INICIO DEL ENTRENAMIENTO ==\n",
            "Iter   0 | Accuracy: 0.520 | Bias: 0.002\n",
            "Iter   5 | Accuracy: 0.508 | Bias: -0.043\n",
            "Iter  10 | Accuracy: 0.517 | Bias: -0.063\n",
            "Iter  15 | Accuracy: 0.618 | Bias: -0.088\n",
            "Iter  20 | Accuracy: 0.605 | Bias: -0.087\n",
            "Iter  25 | Accuracy: 0.624 | Bias: -0.102\n",
            "Iter  30 | Accuracy: 0.338 | Bias: -0.104\n",
            "Iter  35 | Accuracy: 0.688 | Bias: -0.129\n",
            "Iter  40 | Accuracy: 0.683 | Bias: -0.115\n",
            "Iter  45 | Accuracy: 0.584 | Bias: -0.079\n",
            "Iter  50 | Accuracy: 0.584 | Bias: -0.036\n",
            "Iter  55 | Accuracy: 0.633 | Bias: -0.000\n",
            "Iter  60 | Accuracy: 0.633 | Bias: 0.062\n",
            "Iter  65 | Accuracy: 0.633 | Bias: 0.107\n",
            "Iter  70 | Accuracy: 0.633 | Bias: 0.157\n",
            "Iter  75 | Accuracy: 0.633 | Bias: 0.201\n",
            "Iter  80 | Accuracy: 0.633 | Bias: 0.244\n",
            "Iter  85 | Accuracy: 0.633 | Bias: 0.278\n",
            "Iter  90 | Accuracy: 0.633 | Bias: 0.314\n",
            "Iter  95 | Accuracy: 0.633 | Bias: 0.329\n",
            "Iter  99 | Accuracy: 0.633 | Bias: 0.333\n"
          ]
        }
      ]
    },
    {
      "cell_type": "markdown",
      "source": [
        "## X. EVALUACIÓN DE DESEMPEÑO DEL CLASIFICADOR CUÁNTICO FINAL"
      ],
      "metadata": {
        "id": "NbIO2-6aKm4C"
      }
    },
    {
      "cell_type": "code",
      "source": [
        "print(\"\\n== EVALUACIÓN FINAL ==\")\n",
        "acc_test = evaluate_accuracy(X_test, Y_test, weights, bias)\n",
        "print(f\"Test accuracy: {acc_test:.3f}\")"
      ],
      "metadata": {
        "colab": {
          "base_uri": "https://localhost:8080/"
        },
        "id": "5n8DFTQRLUXm",
        "outputId": "a2eb0a05-bc3e-4ef3-b0a6-1588713bc6b8"
      },
      "execution_count": 13,
      "outputs": [
        {
          "output_type": "stream",
          "name": "stdout",
          "text": [
            "\n",
            "== EVALUACIÓN FINAL ==\n",
            "Test accuracy: 0.603\n"
          ]
        }
      ]
    }
  ],
  "metadata": {
    "accelerator": "TPU",
    "colab": {
      "gpuType": "V28",
      "provenance": []
    },
    "kernelspec": {
      "display_name": "Python 3",
      "name": "python3"
    },
    "language_info": {
      "name": "python"
    }
  },
  "nbformat": 4,
  "nbformat_minor": 0
}