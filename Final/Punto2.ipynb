{
  "cells": [
    {
      "cell_type": "code",
      "execution_count": 3,
      "metadata": {
        "colab": {
          "base_uri": "https://localhost:8080/"
        },
        "id": "Lt2cP9SdIr10",
        "outputId": "117ebc8e-be71-4568-90b2-4b1dd36e6f4b"
      },
      "outputs": [
        {
          "output_type": "stream",
          "name": "stdout",
          "text": [
            "Requirement already satisfied: pennylane in /usr/local/lib/python3.11/dist-packages (0.41.1)\n",
            "Requirement already satisfied: numpy in /usr/local/lib/python3.11/dist-packages (from pennylane) (2.0.2)\n",
            "Requirement already satisfied: scipy in /usr/local/lib/python3.11/dist-packages (from pennylane) (1.15.3)\n",
            "Requirement already satisfied: networkx in /usr/local/lib/python3.11/dist-packages (from pennylane) (3.5)\n",
            "Requirement already satisfied: rustworkx>=0.14.0 in /usr/local/lib/python3.11/dist-packages (from pennylane) (0.16.0)\n",
            "Requirement already satisfied: autograd in /usr/local/lib/python3.11/dist-packages (from pennylane) (1.8.0)\n",
            "Requirement already satisfied: tomlkit in /usr/local/lib/python3.11/dist-packages (from pennylane) (0.13.3)\n",
            "Requirement already satisfied: appdirs in /usr/local/lib/python3.11/dist-packages (from pennylane) (1.4.4)\n",
            "Requirement already satisfied: autoray>=0.6.11 in /usr/local/lib/python3.11/dist-packages (from pennylane) (0.7.2)\n",
            "Requirement already satisfied: cachetools in /usr/local/lib/python3.11/dist-packages (from pennylane) (5.5.2)\n",
            "Requirement already satisfied: pennylane-lightning>=0.41 in /usr/local/lib/python3.11/dist-packages (from pennylane) (0.41.1)\n",
            "Requirement already satisfied: requests in /usr/local/lib/python3.11/dist-packages (from pennylane) (2.32.3)\n",
            "Requirement already satisfied: typing-extensions in /usr/local/lib/python3.11/dist-packages (from pennylane) (4.14.1)\n",
            "Requirement already satisfied: packaging in /usr/local/lib/python3.11/dist-packages (from pennylane) (24.2)\n",
            "Requirement already satisfied: diastatic-malt in /usr/local/lib/python3.11/dist-packages (from pennylane) (2.15.2)\n",
            "Requirement already satisfied: scipy-openblas32>=0.3.26 in /usr/local/lib/python3.11/dist-packages (from pennylane-lightning>=0.41->pennylane) (0.3.30.0.1)\n",
            "Requirement already satisfied: astunparse in /usr/local/lib/python3.11/dist-packages (from diastatic-malt->pennylane) (1.6.3)\n",
            "Requirement already satisfied: gast in /usr/local/lib/python3.11/dist-packages (from diastatic-malt->pennylane) (0.6.0)\n",
            "Requirement already satisfied: termcolor in /usr/local/lib/python3.11/dist-packages (from diastatic-malt->pennylane) (3.1.0)\n",
            "Requirement already satisfied: charset-normalizer<4,>=2 in /usr/local/lib/python3.11/dist-packages (from requests->pennylane) (3.4.2)\n",
            "Requirement already satisfied: idna<4,>=2.5 in /usr/local/lib/python3.11/dist-packages (from requests->pennylane) (3.10)\n",
            "Requirement already satisfied: urllib3<3,>=1.21.1 in /usr/local/lib/python3.11/dist-packages (from requests->pennylane) (2.4.0)\n",
            "Requirement already satisfied: certifi>=2017.4.17 in /usr/local/lib/python3.11/dist-packages (from requests->pennylane) (2025.7.9)\n",
            "Requirement already satisfied: wheel<1.0,>=0.23.0 in /usr/local/lib/python3.11/dist-packages (from astunparse->diastatic-malt->pennylane) (0.45.1)\n",
            "Requirement already satisfied: six<2.0,>=1.6.1 in /usr/local/lib/python3.11/dist-packages (from astunparse->diastatic-malt->pennylane) (1.17.0)\n"
          ]
        }
      ],
      "source": [
        "!pip install pennylane"
      ]
    },
    {
      "cell_type": "markdown",
      "metadata": {
        "id": "41fde86e"
      },
      "source": [
        "## I. PREPROCESAMIENTO DE LOS DATOS DE ENTRADA"
      ]
    },
    {
      "cell_type": "code",
      "source": [
        "# Importación de librerías necesarias para la computación cuántica, análisis de datos y métricas de evaluación\n",
        "import zipfile # Necesaria para la extracción del archivo .zip que contiene las carpetas con los conjuntos de datos\n",
        "import pandas as pd # Útil para representación de métricas\n",
        "\n",
        "# Descomprimir el dataset Titanic\n",
        "with zipfile.ZipFile(\"titanic.zip\", 'r') as zip_ref:\n",
        "    zip_ref.extractall(\"titanic_data\")\n",
        "\n",
        "\n",
        "# Cargar y preparar los datos\n",
        "# Convertimos las variables categóricas a variables \"dummy\"\n",
        "# Rellenamos valores faltantes en la edad\n",
        "# Creamos una nueva característica: si es niño o no. Con base en \"age\"\n",
        "\n",
        "df = pd.read_csv(\"titanic_data/train.csv\")\n",
        "df['Pclass'] = df['Pclass'].astype(str)\n",
        "df = pd.concat([df, pd.get_dummies(df[['Pclass', 'Sex', 'Embarked']])], axis=1)\n",
        "df['Age'] = df['Age'].fillna(df['Age'].median())\n",
        "df['is_child'] = df['Age'].map(lambda x: 1 if x < 12 else 0)\n",
        "\n",
        "# Definimos las características (features) que vamos a usar\n",
        "cols = ['is_child', 'Pclass_1', 'Pclass_2', 'Sex_female']\n",
        "# convertimos X en una matriz de enteros y cofificamos las etiquetas Y en un conjunto {-1, +1},\n",
        "# ya que este formato es más adecuado para el clasificador cuántico con función de activación basada en signo.\n",
        "X = df[cols].astype(int).values\n",
        "Y = (df['Survived'] * 2 - 1).values  # {0,1} -> {-1,1}"
      ],
      "metadata": {
        "id": "aNdNigufKt3r"
      },
      "execution_count": 4,
      "outputs": []
    },
    {
      "cell_type": "markdown",
      "source": [
        "## II. DIVISIÓN DE LOS DATOS DE ENTRENAMIENTO Y DATOS DE PRUEBA"
      ],
      "metadata": {
        "id": "-AkRt81JJ8IK"
      }
    },
    {
      "cell_type": "code",
      "source": [
        "from sklearn.model_selection import train_test_split\n",
        "from pennylane import numpy as np\n",
        "# Convertimos los datos a tensores de PennyLane compatibles con autograd\n",
        "# El parámetro requires_grad=False indica que estas variables no serán entrenadas\n",
        "X_train, X_test, Y_train, Y_test = train_test_split(X, Y, test_size=0.2, random_state=42)\n",
        "X_train = np.array(X_train, requires_grad=False, dtype=int)\n",
        "X_test = np.array(X_test, requires_grad=False, dtype=int)\n",
        "Y_train = np.array(Y_train, requires_grad=False)\n",
        "Y_test = np.array(Y_test, requires_grad=False)"
      ],
      "metadata": {
        "colab": {
          "base_uri": "https://localhost:8080/"
        },
        "id": "FKey8j9uKxa5",
        "outputId": "183b909a-37d7-44c3-f65a-1aa4ce4eb69f"
      },
      "execution_count": 5,
      "outputs": [
        {
          "output_type": "stream",
          "name": "stderr",
          "text": [
            "/usr/local/lib/python3.11/dist-packages/pennylane/capture/capture_operators.py:33: RuntimeWarning: PennyLane is not yet compatible with JAX versions > 0.4.28. You have version 0.5.2 installed. Please downgrade JAX to <=0.4.28 to avoid runtime errors.\n",
            "  warnings.warn(\n"
          ]
        }
      ]
    },
    {
      "cell_type": "markdown",
      "source": [
        "## III. ETAPA DEL FEATURE MAP"
      ],
      "metadata": {
        "id": "PcfIXL9mKBwR"
      }
    },
    {
      "cell_type": "code",
      "source": [
        "# Para la codificación de entrada clásica a cuántica (Feature Map)\n",
        "def stateprep(x):\n",
        "    qml.BasisEmbedding(x, wires=range(4))  # num_qubits = 4"
      ],
      "metadata": {
        "id": "FS8Sqd4ZK19n"
      },
      "execution_count": 6,
      "outputs": []
    },
    {
      "cell_type": "markdown",
      "source": [
        "## IV. ETAPA DEL ANSATZ"
      ],
      "metadata": {
        "id": "1Pb1EsmTKKYT"
      }
    },
    {
      "cell_type": "code",
      "source": [
        "# Definimos una capa del ansatz\n",
        "import pennylane as qml\n",
        "\n",
        "# Definimos el número de qubits y capas del circuito\n",
        "num_qubits = 4\n",
        "num_layers = 4\n",
        "# Inicializamos el dispositivo cuántico\n",
        "dev = qml.device(\"default.qubit\", wires=num_qubits)\n",
        "\n",
        "# Para la cconstrucción del circuito cuántico completo con Feature Map + Ansatz\n",
        "\n",
        "\n",
        "# QNode principal usado durante el entrenamiento y evaluación. Recibe como entrada tanto los pesos como la muestra x.\n",
        "@qml.qnode(dev, interface=\"autograd\")\n",
        "def qnode_cost(param_pack):\n",
        "    weights, x = param_pack\n",
        "    stateprep(x)\n",
        "    qml.StronglyEntanglingLayers(weights, wires=range(num_qubits))\n",
        "    return qml.expval(qml.PauliZ(0)) # Medimos vaor esperado en Z del primer qubit\n",
        "\n",
        "# Segundo QNode utilizado exclusivamente para calcular el tensor métrico (QNG). No depende directamente de x (solo usa una muestra fija del batch).\n",
        "@qml.qnode(dev, interface=\"autograd\")\n",
        "def qnode_only_weights(weights):\n",
        "    stateprep(global_x_batch[0]) # Prepara el estado cuántico\n",
        "    qml.StronglyEntanglingLayers(weights, wires=range(num_qubits)) # Aplica el ansatz StronglyEntanglingLayers con los pesos dados\n",
        "    return qml.expval(qml.PauliZ(0)) # Retorna el valor esperado del observable Z en el primer qubit\n",
        "\n",
        "\n",
        "# Clasificador cuántico variacional: suma del circuito y un bias\n",
        "def classifier(weights, bias, x): # a diferencia del caso con AdamOptimizer, este deberá retornar un qnode, no un circuito. Esto es MUY importante .\n",
        "    return qnode_cost((weights, x)) + bias"
      ],
      "metadata": {
        "id": "ztpQOtdhK4zw"
      },
      "execution_count": 7,
      "outputs": []
    },
    {
      "cell_type": "markdown",
      "source": [
        "## V. ETAPA DE FUNCIÓN DE PERDIDA"
      ],
      "metadata": {
        "id": "qDtgE5T1KQfj"
      }
    },
    {
      "cell_type": "code",
      "source": [
        "3# La pérdida utilizada es: L = (y - pred)^2\n",
        "# Se implementa de forma manual más adelante en la parte de entrenamiento"
      ],
      "metadata": {
        "id": "VMEA8wT4LAGa"
      },
      "execution_count": 8,
      "outputs": []
    },
    {
      "cell_type": "markdown",
      "source": [
        "## VI. ETAPA DE EVALUACIÓN DE LA FUNCIÓN DE COSTO"
      ],
      "metadata": {
        "id": "SaUpaqbrKV73"
      }
    },
    {
      "cell_type": "code",
      "source": [
        "from pennylane.optimize import QNGOptimizer\n",
        "\n",
        "qng_opt = QNGOptimizer(stepsize=0.1) # Inicializamos el optimizador de gradiente natural cuántico (QNG)\n",
        "bias_lr = 0.01 # Tasa de aprendizaje para el parámetro clásico de bias"
      ],
      "metadata": {
        "id": "hEAN7pv-LBDp"
      },
      "execution_count": 9,
      "outputs": []
    },
    {
      "cell_type": "markdown",
      "source": [
        "## VII. ETAPA DE ANÁLISIS DE PRECISIÓN"
      ],
      "metadata": {
        "id": "dzbLbatDKYMJ"
      }
    },
    {
      "cell_type": "code",
      "source": [
        "from sklearn.metrics import accuracy_score\n",
        "\n",
        "# Para la evalaiación de la exactitud\n",
        "def evaluate_accuracy(X, Y, weights, bias):\n",
        "    preds = [np.sign(classifier(weights, bias, x)) for x in X]\n",
        "    return accuracy_score(Y, preds)"
      ],
      "metadata": {
        "id": "YVTLEjA2LL42"
      },
      "execution_count": 10,
      "outputs": []
    },
    {
      "cell_type": "markdown",
      "source": [
        "## VIII. PESOS INICIALES DEFINIDOS"
      ],
      "metadata": {
        "id": "LDgMgIBLKfHA"
      }
    },
    {
      "cell_type": "code",
      "source": [
        "# Determinamos la forma del tensor de pesos para el ansatz StronglyEntanglingLayers,\n",
        "# en función del número de capas y qubits\n",
        "shape = qml.StronglyEntanglingLayers.shape(num_layers, num_qubits)\n",
        "\n",
        "#Inicializamos los pesos con valores aleatorios pequeños y habilitamos el cálculo de gradientes\n",
        "weights = 0.1 * np.random.randn(*shape)\n",
        "weights.requires_grad = True\n",
        "\n",
        "# Inicializamos el bias clásico con cero y también habilitamos su gradiente\n",
        "bias = np.tensor(0.0, requires_grad=True)"
      ],
      "metadata": {
        "id": "mv82Q84vLMrB"
      },
      "execution_count": 11,
      "outputs": []
    },
    {
      "cell_type": "markdown",
      "source": [
        "## IX. PESOS FINALES ENTRENADOS"
      ],
      "metadata": {
        "id": "HRDTLZMkKil3"
      }
    },
    {
      "cell_type": "code",
      "source": [
        "print(\"== INICIO DEL ENTRENAMIENTO ==\")\n",
        "batch_size = 16\n",
        "num_epochs = 100\n",
        "log_interval = 5 # Frecuencia con la que se mostrarán los datos de precición y bias\n",
        "\n",
        "\n",
        "# Listas para guardar el historial de accuracy y bias a lo largo del entrenamiento\n",
        "acc_hist = []\n",
        "bias_hist = []\n",
        "\n",
        "# Entrenamiento del modelo usando batches aleatorios\n",
        "for it in range(num_epochs):\n",
        "    idx = np.random.choice(len(X_train), batch_size, replace=False)\n",
        "    global_x_batch = X_train[idx]\n",
        "    y_batch = Y_train[idx]\n",
        "\n",
        "    # Paso 1: actualizar pesos\n",
        "    metric_tensor = qml.adjoint_metric_tensor(qnode_only_weights)\n",
        "    weights = qng_opt.step(qnode_only_weights, weights, metric_tensor_fn=metric_tensor)\n",
        "    weights.requires_grad = True\n",
        "\n",
        "    # Paso 2: actualizar bias\n",
        "    preds = np.array([classifier(weights, bias, xi) for xi in global_x_batch])\n",
        "    grads = -2 * (y_batch - preds)\n",
        "    avg_grad = np.mean(grads)\n",
        "    bias = bias - bias_lr * avg_grad\n",
        "\n",
        "    if it % log_interval == 0 or it == num_epochs - 1: # para lo loggear todo, sino en bloques de a 5 iteraciones\n",
        "        acc = evaluate_accuracy(X_train, Y_train, weights, bias)\n",
        "        acc_hist.append(acc)\n",
        "        bias_hist.append(bias.item())\n",
        "        print(f\"Iter {it:3d} | Accuracy: {acc:.3f} | Bias: {bias:.3f}\")"
      ],
      "metadata": {
        "colab": {
          "base_uri": "https://localhost:8080/"
        },
        "id": "SekYM_X6LPpM",
        "outputId": "27470533-88c3-4d44-e5c4-3843ca9038a6"
      },
      "execution_count": 12,
      "outputs": [
        {
          "output_type": "stream",
          "name": "stdout",
          "text": [
            "== INICIO DEL ENTRENAMIENTO ==\n",
            "Iter   0 | Accuracy: 0.520 | Bias: 0.002\n",
            "Iter   5 | Accuracy: 0.508 | Bias: -0.043\n",
            "Iter  10 | Accuracy: 0.517 | Bias: -0.063\n",
            "Iter  15 | Accuracy: 0.618 | Bias: -0.088\n",
            "Iter  20 | Accuracy: 0.605 | Bias: -0.087\n",
            "Iter  25 | Accuracy: 0.624 | Bias: -0.102\n",
            "Iter  30 | Accuracy: 0.338 | Bias: -0.104\n",
            "Iter  35 | Accuracy: 0.688 | Bias: -0.129\n",
            "Iter  40 | Accuracy: 0.683 | Bias: -0.115\n",
            "Iter  45 | Accuracy: 0.584 | Bias: -0.079\n",
            "Iter  50 | Accuracy: 0.584 | Bias: -0.036\n",
            "Iter  55 | Accuracy: 0.633 | Bias: -0.000\n",
            "Iter  60 | Accuracy: 0.633 | Bias: 0.062\n",
            "Iter  65 | Accuracy: 0.633 | Bias: 0.107\n",
            "Iter  70 | Accuracy: 0.633 | Bias: 0.157\n",
            "Iter  75 | Accuracy: 0.633 | Bias: 0.201\n",
            "Iter  80 | Accuracy: 0.633 | Bias: 0.244\n",
            "Iter  85 | Accuracy: 0.633 | Bias: 0.278\n",
            "Iter  90 | Accuracy: 0.633 | Bias: 0.314\n",
            "Iter  95 | Accuracy: 0.633 | Bias: 0.329\n",
            "Iter  99 | Accuracy: 0.633 | Bias: 0.333\n"
          ]
        }
      ]
    },
    {
      "cell_type": "markdown",
      "source": [
        "## X. EVALUACIÓN DE DESEMPEÑO DEL CLASIFICADOR CUÁNTICO FINAL"
      ],
      "metadata": {
        "id": "NbIO2-6aKm4C"
      }
    },
    {
      "cell_type": "code",
      "source": [
        "# Métricas de evaluación\n",
        "print(\"\\n== EVALUACIÓN FINAL ==\")\n",
        "acc_test = evaluate_accuracy(X_test, Y_test, weights, bias)\n",
        "print(f\"Test accuracy: {acc_test:.3f}\")"
      ],
      "metadata": {
        "colab": {
          "base_uri": "https://localhost:8080/"
        },
        "id": "5n8DFTQRLUXm",
        "outputId": "a2eb0a05-bc3e-4ef3-b0a6-1588713bc6b8"
      },
      "execution_count": 13,
      "outputs": [
        {
          "output_type": "stream",
          "name": "stdout",
          "text": [
            "\n",
            "== EVALUACIÓN FINAL ==\n",
            "Test accuracy: 0.603\n"
          ]
        }
      ]
    },
    {
      "cell_type": "markdown",
      "source": [
        "# Comparativa de eficiencia: (AdamOptimizer, BasicEntanglerLayers) vs (QNGOptimizer, StronglyEntanglingLayers)\n",
        "\n"
      ],
      "metadata": {
        "id": "54aXh04FQw3A"
      }
    },
    {
      "cell_type": "markdown",
      "source": [
        "| Modelo | Optimizador     | Ansatz                     | Accuracy final (train) | Accuracy test\n",
        "| ------ | --------------- | -------------------------- | ---------------------- | -------------\n",
        "| **A**  | `AdamOptimizer` | `BasicEntanglerLayers`     | 0.78                   | 0.789         |\n",
        "| **B**  | `QNGOptimizer`  | `StronglyEntanglingLayers` | 0.63                   | 0.603         |     \n"
      ],
      "metadata": {
        "id": "AsVl9IElSwgn"
      }
    },
    {
      "cell_type": "markdown",
      "source": [
        "Modelo A (Adam + BasicEntanglerLayers) logró un mejor ajuste y generalización, alcanzando un F1-score de 0.77 en test y una accuracy superior al 78%. El entrenamiento mostró una curva de mejora constante y estable.\n",
        "\n",
        "Modelo B (QNG + StronglyEntanglingLayers) mostró un rendimiento más inestable: comenzó cerca del azar (0.52) y osciló en accuracy entre 0.58 y 0.68 durante el entrenamiento. A pesar de usar el optimizador natural QNG (más sofisticado teóricamente), no logró superar a Adam en esta configuración.\n",
        "\n",
        "Podría tratarse de que el StronglyEntanglingLayers introduce muchos más parámetros y entrelazamientos, con relación a los pocos datos disponibles o entrenamiento limitado, puede sobreajustar o ser más difícil de optimizar. Adicionalmente, el bias evolucionó lentamente y no compensó bien las predicciones, afectando la separación entre clases."
      ],
      "metadata": {
        "id": "KLDID2JYTIk4"
      }
    },
    {
      "cell_type": "code",
      "source": [
        "import matplotlib.pyplot as plt\n",
        "import numpy as np\n",
        "\n",
        "adam_epochs = np.arange(1, 67)\n",
        "\n",
        "# Reescritura de los datos obtenidos en el Punto 1, como arreglo\n",
        "adam_accuracy = [\n",
        "    0.3657928, 0.3657928, 0.3657928, 0.3657928, 0.5205993, 0.6167291, 0.6167291,\n",
        "    0.6167291, 0.6167291, 0.6167291, 0.6167291, 0.6167291, 0.6167291, 0.6167291,\n",
        "    0.7802747, 0.7802747, 0.7802747, 0.7802747, 0.7802747, 0.7802747, 0.7802747,\n",
        "    0.7802747, 0.7727840, 0.7727840, 0.7727840, 0.7727840, 0.7840200, 0.7840200,\n",
        "    0.7840200, 0.7840200, 0.7840200, 0.7840200, 0.7840200, 0.7840200, 0.7840200,\n",
        "    0.7840200, 0.7840200, 0.7840200, 0.7840200, 0.7840200, 0.7840200, 0.7840200,\n",
        "    0.7840200, 0.7840200, 0.7840200, 0.7840200, 0.7840200, 0.7840200, 0.7840200,\n",
        "    0.7852684, 0.7852684, 0.7852684, 0.7852684, 0.7852684, 0.7852684, 0.7840200,\n",
        "    0.7840200, 0.7840200, 0.7840200, 0.7840200, 0.7840200, 0.7840200, 0.7840200,\n",
        "    0.7840200, 0.7840200, 0.7840200\n",
        "]\n",
        "\n",
        "\n",
        "# Reescritura de los datos obtenidos en el Punto 2, como arreglo\n",
        "qng_epochs = np.arange(0, 100, 5)\n",
        "qng_accuracy = [\n",
        "    0.520, 0.508, 0.517, 0.618, 0.605, 0.624, 0.338,\n",
        "    0.688, 0.683, 0.584, 0.584, 0.633, 0.633, 0.633,\n",
        "    0.633, 0.633, 0.633, 0.633, 0.633, 0.633\n",
        "]\n",
        "\n",
        "# Gráfica comparativa\n",
        "plt.figure(figsize=(10, 5))\n",
        "plt.plot(adam_epochs, adam_accuracy, label=\"Adam + BasicEntanglerLayers\", color=\"blue\", linewidth=2)\n",
        "plt.plot(qng_epochs, qng_accuracy, label=\"QNG + StronglyEntanglingLayers\", color=\"red\", linewidth=2, marker=\"o\")\n",
        "plt.xlabel(\"Epoch\")\n",
        "plt.ylabel(\"Accuracy (entrenamiento)\")\n",
        "plt.title(\"Comparación de desempeño entre dos modelos cuánticos\")\n",
        "plt.grid(True)\n",
        "plt.legend()\n",
        "plt.tight_layout()\n",
        "plt.show()\n"
      ],
      "metadata": {
        "colab": {
          "base_uri": "https://localhost:8080/",
          "height": 507
        },
        "id": "UYaS4caNTlL_",
        "outputId": "57e94327-6b65-4108-e794-26837d9dc867"
      },
      "execution_count": 16,
      "outputs": [
        {
          "output_type": "display_data",
          "data": {
            "text/plain": [
              "<Figure size 1000x500 with 1 Axes>"
            ],
            "image/png": "[encoded data removed]"
          },
          "metadata": {}
        }
      ]
    }
  ],
  "metadata": {
    "accelerator": "TPU",
    "colab": {
      "gpuType": "V28",
      "provenance": []
    },
    "kernelspec": {
      "display_name": "Python 3",
      "name": "python3"
    },
    "language_info": {
      "name": "python"
    }
  },
  "nbformat": 4,
  "nbformat_minor": 0
}